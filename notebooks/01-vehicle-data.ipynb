{
 "cells": [
  {
   "cell_type": "code",
   "execution_count": 72,
   "id": "94ec9ec7-9280-4a27-970b-b5d8ffd83e06",
   "metadata": {},
   "outputs": [],
   "source": [
    "import pandas as pd\n",
    "import numpy as np\n",
    "\n",
    "pd.set_option('display.max_column', 100)\n",
    "sns.set(style='whitegrid')\n"
   ]
  },
  {
   "cell_type": "code",
   "execution_count": 73,
   "id": "5e7ad28a-9a20-47b9-9353-05c8fd3a4882",
   "metadata": {},
   "outputs": [
    {
     "name": "stdout",
     "output_type": "stream",
     "text": [
      "Rows: 379234, Columns: 74\n"
     ]
    }
   ],
   "source": [
    "df = pd.read_csv('../crash-data.csv')\n",
    "print(f\"Rows: {df.shape[0]}, Columns: {df.shape[1]}\")"
   ]
  },
  {
   "cell_type": "code",
   "execution_count": 74,
   "id": "091690d4-90ab-4add-897f-134f941045a9",
   "metadata": {},
   "outputs": [
    {
     "name": "stdout",
     "output_type": "stream",
     "text": [
      "CrashDate converted go datetime\n"
     ]
    }
   ],
   "source": [
    "df['CrashDate'] = pd.to_datetime(df['CrashDate'], errors='coerce')\n",
    "print('CrashDate converted go datetime')"
   ]
  },
  {
   "cell_type": "code",
   "execution_count": 75,
   "id": "e1034d66-a7bd-44bb-aea3-d6c77d81f016",
   "metadata": {},
   "outputs": [
    {
     "name": "stdout",
     "output_type": "stream",
     "text": [
      "Earliest crash: 2022-01-01 00:00:00\n",
      "Latest crash:   2024-12-31 00:00:00\n"
     ]
    }
   ],
   "source": [
    "print(f\"Earliest crash: {df['CrashDate'].min()}\")\n",
    "print(f\"Latest crash:   {df['CrashDate'].max()}\")"
   ]
  },
  {
   "cell_type": "code",
   "execution_count": 76,
   "id": "ee7bce94-8a3d-4305-b049-950c5853fa55",
   "metadata": {},
   "outputs": [],
   "source": [
    "df['Is_Fatal'] = np.where(df['Number_Of_Fatalities'].astype(int) > 0, 1, 0)\n",
    "\n",
    "df['Is_Severe'] = np.where(\n",
    "    (df['Number_Of_Fatalities'].astype(int) > 0) |\n",
    "    (df['Number_Of_Injuries'].astype(int) > 1),\n",
    "    1, 0\n",
    ")\n",
    "\n",
    "df['Is_Minor'] = np.where(\n",
    "    (df['Number_Of_Fatalities'].astype(int) == 0) &\n",
    "    (df['Number_Of_Injuries'].astype(int) <= 1),\n",
    "    1, 0\n",
    ")\n"
   ]
  },
  {
   "cell_type": "code",
   "execution_count": 77,
   "id": "2c7e8d28-e38e-41a0-81b6-424711108157",
   "metadata": {},
   "outputs": [
    {
     "ename": "TypeError",
     "evalue": "Categorical.__init__() got an unexpected keyword argument 'catagories'",
     "output_type": "error",
     "traceback": [
      "\u001b[0;31m---------------------------------------------------------------------------\u001b[0m",
      "\u001b[0;31mTypeError\u001b[0m                                 Traceback (most recent call last)",
      "Cell \u001b[0;32mIn[77], line 10\u001b[0m\n\u001b[1;32m      7\u001b[0m         \u001b[38;5;28;01mreturn\u001b[39;00m \u001b[38;5;124m'\u001b[39m\u001b[38;5;124mMinor\u001b[39m\u001b[38;5;124m'\u001b[39m\n\u001b[1;32m      9\u001b[0m df[\u001b[38;5;124m'\u001b[39m\u001b[38;5;124mSeverityLabel\u001b[39m\u001b[38;5;124m'\u001b[39m] \u001b[38;5;241m=\u001b[39m df\u001b[38;5;241m.\u001b[39mapply(get_severity_label, axis\u001b[38;5;241m=\u001b[39m\u001b[38;5;241m1\u001b[39m)\n\u001b[0;32m---> 10\u001b[0m df[\u001b[38;5;124m'\u001b[39m\u001b[38;5;124mSeverityLabel\u001b[39m\u001b[38;5;124m'\u001b[39m] \u001b[38;5;241m=\u001b[39m pd\u001b[38;5;241m.\u001b[39mCategorical(\n\u001b[1;32m     11\u001b[0m     df[\u001b[38;5;124m'\u001b[39m\u001b[38;5;124mSeverityLabel\u001b[39m\u001b[38;5;124m'\u001b[39m], catagories\u001b[38;5;241m=\u001b[39m[\u001b[38;5;124m'\u001b[39m\u001b[38;5;124mMinor\u001b[39m\u001b[38;5;124m'\u001b[39m, \u001b[38;5;124m'\u001b[39m\u001b[38;5;124mSevere\u001b[39m\u001b[38;5;124m'\u001b[39m, \u001b[38;5;124m'\u001b[39m\u001b[38;5;124mFatal\u001b[39m\u001b[38;5;124m'\u001b[39m], ordered\u001b[38;5;241m=\u001b[39m\u001b[38;5;28;01mTrue\u001b[39;00m\n\u001b[1;32m     12\u001b[0m )\n",
      "\u001b[0;31mTypeError\u001b[0m: Categorical.__init__() got an unexpected keyword argument 'catagories'"
     ]
    }
   ],
   "source": [
    "def get_severity_label(row):\n",
    "    if row['Is_Fatal']:\n",
    "        return 'Fatal'\n",
    "    elif row['Is_Severe']:\n",
    "        return 'Severe'\n",
    "    else:\n",
    "        return 'Minor'\n",
    "\n",
    "df['SeverityLabel'] = df.apply(get_severity_label, axis=1)\n",
    "df['SeverityLabel'] = pd.Categorical(\n",
    "    df['SeverityLabel'], catagories=['Minor', 'Severe', 'Fatal'], ordered=True\n",
    ")"
   ]
  },
  {
   "cell_type": "code",
   "execution_count": null,
   "id": "d121f365-8f7b-4cc3-90ff-1a197d64b199",
   "metadata": {},
   "outputs": [],
   "source": [
    "df.to_csv('cleaned_crash_data.csv', index=False)\n",
    "print(\"Cleaned data saved to 'cleaned_crash_data.csv'\")"
   ]
  },
  {
   "cell_type": "code",
   "execution_count": null,
   "id": "497b8d86-11f0-4898-8c6d-a4acedec10d7",
   "metadata": {},
   "outputs": [],
   "source": [
    "\n"
   ]
  },
  {
   "cell_type": "code",
   "execution_count": null,
   "id": "62d2f8aa-a3e4-416a-9f2a-4259d8023056",
   "metadata": {},
   "outputs": [],
   "source": []
  }
 ],
 "metadata": {
  "kernelspec": {
   "display_name": "Python [conda env:base] *",
   "language": "python",
   "name": "conda-base-py"
  },
  "language_info": {
   "codemirror_mode": {
    "name": "ipython",
    "version": 3
   },
   "file_extension": ".py",
   "mimetype": "text/x-python",
   "name": "python",
   "nbconvert_exporter": "python",
   "pygments_lexer": "ipython3",
   "version": "3.12.2"
  }
 },
 "nbformat": 4,
 "nbformat_minor": 5
}
