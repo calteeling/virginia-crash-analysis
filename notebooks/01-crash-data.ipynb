{
 "cells": [
  {
   "cell_type": "code",
   "execution_count": 110,
   "id": "94ec9ec7-9280-4a27-970b-b5d8ffd83e06",
   "metadata": {},
   "outputs": [],
   "source": [
    "import pandas as pd\n",
    "import numpy as np\n",
    "\n",
    "pd.set_option('display.max_column', 100)\n",
    "sns.set(style='whitegrid')\n"
   ]
  },
  {
   "cell_type": "code",
   "execution_count": 111,
   "id": "5e7ad28a-9a20-47b9-9353-05c8fd3a4882",
   "metadata": {},
   "outputs": [
    {
     "name": "stdout",
     "output_type": "stream",
     "text": [
      "Rows: 379234, Columns: 74\n"
     ]
    }
   ],
   "source": [
    "df = pd.read_csv('../data/crash-data.csv')\n",
    "print(f\"Rows: {df.shape[0]}, Columns: {df.shape[1]}\")"
   ]
  },
  {
   "cell_type": "code",
   "execution_count": 112,
   "id": "091690d4-90ab-4add-897f-134f941045a9",
   "metadata": {},
   "outputs": [
    {
     "name": "stdout",
     "output_type": "stream",
     "text": [
      "CrashDate converted go datetime\n"
     ]
    }
   ],
   "source": [
    "df['CrashDate'] = pd.to_datetime(df['CrashDate'], errors='coerce')\n",
    "print('CrashDate converted go datetime')"
   ]
  },
  {
   "cell_type": "code",
   "execution_count": 113,
   "id": "e1034d66-a7bd-44bb-aea3-d6c77d81f016",
   "metadata": {},
   "outputs": [
    {
     "name": "stdout",
     "output_type": "stream",
     "text": [
      "Earliest crash: 2022-01-01 00:00:00\n",
      "Latest crash:   2024-12-31 00:00:00\n"
     ]
    }
   ],
   "source": [
    "print(f\"Earliest crash: {df['CrashDate'].min()}\")\n",
    "print(f\"Latest crash:   {df['CrashDate'].max()}\")"
   ]
  },
  {
   "cell_type": "code",
   "execution_count": 114,
   "id": "ee7bce94-8a3d-4305-b049-950c5853fa55",
   "metadata": {},
   "outputs": [],
   "source": [
    "#These groupings will help to train the ml later\n",
    "df['Is_Fatal'] = np.where(df['Number_Of_Fatalities'].astype(int) > 0, 1, 0)\n",
    "\n",
    "df['Is_Severe'] = np.where(\n",
    "    (df['Number_Of_Fatalities'].astype(int) > 0) |\n",
    "    (df['Number_Of_Injuries'].astype(int) > 1),\n",
    "    1, 0\n",
    ")\n",
    "\n",
    "df['Is_Minor'] = np.where(\n",
    "    (df['Number_Of_Fatalities'].astype(int) == 0) &\n",
    "    (df['Number_Of_Injuries'].astype(int) <= 1),\n",
    "    1, 0\n",
    ")\n"
   ]
  },
  {
   "cell_type": "code",
   "execution_count": 115,
   "id": "2c7e8d28-e38e-41a0-81b6-424711108157",
   "metadata": {},
   "outputs": [],
   "source": [
    "def get_severity_label(row):\n",
    "    if row['Is_Fatal']:\n",
    "        return 'Fatal'\n",
    "    elif row['Is_Severe']:\n",
    "        return 'Severe'\n",
    "    else:\n",
    "        return 'Minor'\n",
    "\n",
    "df['SeverityLabel'] = df.apply(get_severity_label, axis=1)\n",
    "df['SeverityLabel'] = pd.Categorical(\n",
    "    df['SeverityLabel'], categories=['Minor', 'Severe', 'Fatal'], ordered=True\n",
    ")"
   ]
  },
  {
   "cell_type": "code",
   "execution_count": 128,
   "id": "d121f365-8f7b-4cc3-90ff-1a197d64b199",
   "metadata": {},
   "outputs": [
    {
     "name": "stdout",
     "output_type": "stream",
     "text": [
      "Cleaned data saved to 'cleaned_crash_data.csv'\n"
     ]
    }
   ],
   "source": [
    "df.to_csv('../data/cleaned_crash_data.csv', index=False)\n",
    "print(\"Cleaned data saved to 'cleaned_crash_data.csv'\")\n",
    "sample_df = df.sample(n=5000, random_state=42)\n",
    "sample_df.to_csv('../data/cleaned_crash_sample.csv', index=False)"
   ]
  },
  {
   "cell_type": "code",
   "execution_count": null,
   "id": "6bc001a4-7220-4fca-896e-a0c59d35fcc2",
   "metadata": {},
   "outputs": [],
   "source": []
  }
 ],
 "metadata": {
  "kernelspec": {
   "display_name": "Python [conda env:base] *",
   "language": "python",
   "name": "conda-base-py"
  },
  "language_info": {
   "codemirror_mode": {
    "name": "ipython",
    "version": 3
   },
   "file_extension": ".py",
   "mimetype": "text/x-python",
   "name": "python",
   "nbconvert_exporter": "python",
   "pygments_lexer": "ipython3",
   "version": "3.12.2"
  }
 },
 "nbformat": 4,
 "nbformat_minor": 5
}
